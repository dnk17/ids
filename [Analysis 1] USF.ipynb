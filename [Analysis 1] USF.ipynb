{
 "cells": [
  {
   "cell_type": "markdown",
   "metadata": {},
   "source": [
    "**Note**: \n",
    "\n",
    "- The result below correponds to Analysis 1 in the paper.\n",
    "- Output: Predictive accuracy of association using USF (reported in Figure 2A).\n",
    "- This result got transfered to file CombinationModel_Log.ipynb for graphing Figure 2A."
   ]
  },
  {
   "cell_type": "code",
   "execution_count": 1,
   "metadata": {
    "collapsed": true
   },
   "outputs": [],
   "source": [
    "import numpy as np\n",
    "import pandas as pd\n",
    "from scipy.sparse import load_npz, csr_matrix\n",
    "from scipy.io import loadmat\n",
    "from scipy.stats import pearsonr, spearmanr\n",
    "import pickle as pk\n",
    "from IPython.display import clear_output\n",
    "import random\n",
    "from sklearn.model_selection import train_test_split\n",
    "from sklearn import linear_model"
   ]
  },
  {
   "cell_type": "code",
   "execution_count": 2,
   "metadata": {
    "collapsed": true
   },
   "outputs": [],
   "source": [
    "matrices = loadmat('data/usf_colexMats.mat')\n",
    "size = matrices['135'].shape\n",
    "min_NLang = 2"
   ]
  },
  {
   "cell_type": "code",
   "execution_count": 3,
   "metadata": {
    "collapsed": true
   },
   "outputs": [],
   "source": [
    "def printResult(list):\n",
    "    print('mean: ', round(np.mean(list),3))\n",
    "    print('95% ci: ',round(np.mean(list) - 1.96*np.std(list),3), round(np.mean(list) + 1.96*np.std(list),3))"
   ]
  },
  {
   "cell_type": "markdown",
   "metadata": {},
   "source": [
    "# Define binary matrix"
   ]
  },
  {
   "cell_type": "code",
   "execution_count": 4,
   "metadata": {
    "collapsed": true
   },
   "outputs": [],
   "source": [
    "\"\"\"If there is one language that colexifies a pair: \n",
    "    entry = 1 \n",
    "else:\n",
    "    entry = 0\"\"\" \n",
    "\n",
    "individual_binarize = {}\n",
    "\n",
    "for i in matrices:\n",
    "    if type(matrices[i]) == type(matrices['207']):\n",
    "        ind = np.nonzero(matrices[i])\n",
    "        mat = np.zeros(size)\n",
    "        mat[ind] = 1 \n",
    "        individual_binarize[i] = mat "
   ]
  },
  {
   "cell_type": "code",
   "execution_count": 5,
   "metadata": {
    "collapsed": true
   },
   "outputs": [],
   "source": [
    "sumMat = sum(individual_binarize.values())"
   ]
  },
  {
   "cell_type": "code",
   "execution_count": 6,
   "metadata": {
    "collapsed": true
   },
   "outputs": [],
   "source": [
    "# Pairs that are identical in English\n",
    "eng_ex = load_npz('data/usf_eng_ex.npz')\n",
    "english = set(zip(*np.nonzero(eng_ex)))"
   ]
  },
  {
   "cell_type": "code",
   "execution_count": 7,
   "metadata": {
    "collapsed": true
   },
   "outputs": [],
   "source": [
    "colexified = np.argwhere(sumMat >= min_NLang)\n",
    "colex_set = set([tuple(i) for i in colexified]) - english"
   ]
  },
  {
   "cell_type": "code",
   "execution_count": 8,
   "metadata": {
    "collapsed": true
   },
   "outputs": [],
   "source": [
    "colex_ind = np.array(list(colex_set))\n",
    "colex_ind = (colex_ind[:,0],colex_ind[:,1])"
   ]
  },
  {
   "cell_type": "code",
   "execution_count": 9,
   "metadata": {
    "collapsed": true
   },
   "outputs": [],
   "source": [
    "all_ind = list(zip(*np.indices(size).reshape(2, size[0]*size[0])))"
   ]
  },
  {
   "cell_type": "code",
   "execution_count": 10,
   "metadata": {
    "collapsed": true
   },
   "outputs": [],
   "source": [
    "zero_set = set(all_ind) - colex_set - english"
   ]
  },
  {
   "cell_type": "code",
   "execution_count": 11,
   "metadata": {
    "collapsed": true
   },
   "outputs": [],
   "source": [
    "mean_hbc_trim = load_npz('data/usf.npz')"
   ]
  },
  {
   "cell_type": "code",
   "execution_count": 12,
   "metadata": {},
   "outputs": [
    {
     "name": "stdout",
     "output_type": "stream",
     "text": [
      "Sample #: 99\n"
     ]
    }
   ],
   "source": [
    "# Perform Logistic Regression\n",
    "overall = [] \n",
    "\n",
    "for rep in range(100):\n",
    "    clear_output(wait=True)\n",
    "    print('Sample #: {}'.format(rep))\n",
    "    sample_zero = random.sample(list(zero_set),len(colex_set))\n",
    "    sample_zero = np.array(list(sample_zero))\n",
    "    sample_zero = (sample_zero[:,0],sample_zero[:,1])\n",
    "    \n",
    "    target = np.array([1]*len(colex_set) + [0]*len(colex_set))\n",
    "    data = np.array(list(mean_hbc_trim.toarray()[colex_ind]) + \n",
    "                    list(list(mean_hbc_trim.toarray()[sample_zero])))\n",
    "    \n",
    "    target = target.reshape(-1,1)\n",
    "    data = data.reshape(-1,1)\n",
    "    \n",
    "    acc = [] #Accuracy \n",
    "    \n",
    "    for fold in range(20):\n",
    "        X_train, X_test, y_train, y_test = \\\n",
    "        train_test_split(data, target, test_size=0.1)\n",
    "        \n",
    "        logistic = linear_model.LogisticRegression()\n",
    "        acc.append(logistic.fit(X_train, y_train).score(X_test, y_test))\n",
    "    \n",
    "    overall.append(np.mean(acc))"
   ]
  },
  {
   "cell_type": "code",
   "execution_count": 13,
   "metadata": {},
   "outputs": [
    {
     "name": "stdout",
     "output_type": "stream",
     "text": [
      "--------------------------\n",
      "PREDICTIVE ACCURACY of USF\n",
      "--------------------------\n",
      "mean:  0.66\n",
      "95% ci:  0.654 0.666\n"
     ]
    }
   ],
   "source": [
    "print('--------------------------')\n",
    "print('PREDICTIVE ACCURACY of USF')\n",
    "print('--------------------------')\n",
    "printResult(overall)"
   ]
  }
 ],
 "metadata": {
  "kernelspec": {
   "display_name": "Python [default]",
   "language": "python",
   "name": "python3"
  },
  "language_info": {
   "codemirror_mode": {
    "name": "ipython",
    "version": 3
   },
   "file_extension": ".py",
   "mimetype": "text/x-python",
   "name": "python",
   "nbconvert_exporter": "python",
   "pygments_lexer": "ipython3",
   "version": "3.5.2"
  }
 },
 "nbformat": 4,
 "nbformat_minor": 1
}
