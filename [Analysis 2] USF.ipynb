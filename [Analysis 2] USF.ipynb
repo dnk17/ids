{
 "cells": [
  {
   "cell_type": "code",
   "execution_count": null,
   "metadata": {
    "collapsed": true
   },
   "outputs": [],
   "source": [
    "**Note**: \n",
    "\n",
    "- The results below correspond to Analysis 2 in the paper.\n",
    "- *Outputs*: Spearman R of HBC, W2V, concreteness, valence, frequency, controlled for three factors: family, geography, and climate"
   ]
  },
  {
   "cell_type": "code",
   "execution_count": 9,
   "metadata": {
    "collapsed": true
   },
   "outputs": [],
   "source": [
    "import numpy as np\n",
    "import pandas as pd\n",
    "from scipy.sparse import load_npz, csr_matrix\n",
    "from scipy.io import loadmat\n",
    "from scipy.stats import spearmanr\n",
    "import pickle as pk\n",
    "from IPython.display import clear_output"
   ]
  },
  {
   "cell_type": "code",
   "execution_count": 10,
   "metadata": {
    "collapsed": true
   },
   "outputs": [],
   "source": [
    "matrices = loadmat('data/usf_colexMats.mat')"
   ]
  },
  {
   "cell_type": "code",
   "execution_count": 22,
   "metadata": {
    "collapsed": true
   },
   "outputs": [],
   "source": [
    "def printResult(alist):\n",
    "    print('mean: ',round(np.mean(alist),3))\n",
    "    print('95% ci: ', round(np.mean(alist) - 1.96*np.std(alist),3), round(np.mean(alist) + 1.96*np.std(alist),3))"
   ]
  },
  {
   "cell_type": "markdown",
   "metadata": {},
   "source": [
    "# Extract non-zero elements"
   ]
  },
  {
   "cell_type": "code",
   "execution_count": 3,
   "metadata": {
    "collapsed": true
   },
   "outputs": [],
   "source": [
    "sumMat = []\n",
    "\n",
    "for key in matrices.keys():\n",
    "    if type(matrices[key]) == type(matrices['207']):\n",
    "        sumMat.append(matrices[key])\n",
    "\n",
    "totalMat = sum(sumMat)"
   ]
  },
  {
   "cell_type": "code",
   "execution_count": 4,
   "metadata": {
    "collapsed": true
   },
   "outputs": [],
   "source": [
    "# Pairs that are identical in English\n",
    "\n",
    "eng_ex = load_npz('data/usf_eng_ex.npz')"
   ]
  },
  {
   "cell_type": "code",
   "execution_count": 5,
   "metadata": {
    "collapsed": true
   },
   "outputs": [],
   "source": [
    "upper = set(zip(*np.triu_indices(eng_ex.shape[0])))\n",
    "diagonal = set([(i,i) for i in range(eng_ex.shape[0])])\n",
    "english = set(zip(*np.nonzero(eng_ex)))\n",
    "non_zero = set(zip(*np.nonzero(totalMat)))\n",
    "    \n",
    "final_ind = (upper & non_zero) - diagonal - english\n",
    "    \n",
    "final_ind = np.array(list(final_ind))\n",
    "final_ind = (final_ind[:,0],final_ind[:,1])"
   ]
  },
  {
   "cell_type": "code",
   "execution_count": 12,
   "metadata": {
    "collapsed": true
   },
   "outputs": [],
   "source": [
    "usf = load_npz('data/usf.npz')"
   ]
  },
  {
   "cell_type": "code",
   "execution_count": 13,
   "metadata": {
    "collapsed": true
   },
   "outputs": [],
   "source": [
    "association = np.array(usf.toarray()[final_ind])"
   ]
  },
  {
   "cell_type": "code",
   "execution_count": 19,
   "metadata": {
    "collapsed": true
   },
   "outputs": [],
   "source": [
    "family = loadmat('data/usf_colex_family.mat')\n",
    "climate = loadmat('data/usf_colex_climate.mat')\n",
    "geography = loadmat('data/usf_colex_geography.mat')"
   ]
  },
  {
   "cell_type": "markdown",
   "metadata": {},
   "source": [
    "# Linear Regression"
   ]
  },
  {
   "cell_type": "markdown",
   "metadata": {},
   "source": [
    "## Control Family"
   ]
  },
  {
   "cell_type": "code",
   "execution_count": 23,
   "metadata": {},
   "outputs": [
    {
     "name": "stdout",
     "output_type": "stream",
     "text": [
      "Sample #: 999\n"
     ]
    }
   ],
   "source": [
    "spearman = []\n",
    "\n",
    "for i in range(1000):\n",
    "    clear_output(wait=True)\n",
    "    print('Sample #: {}'.format(i))\n",
    "    ids = family[str(i)].toarray()[final_ind]\n",
    "    spearman.append(spearmanr(association,ids)[0])"
   ]
  },
  {
   "cell_type": "code",
   "execution_count": 24,
   "metadata": {},
   "outputs": [
    {
     "name": "stdout",
     "output_type": "stream",
     "text": [
      "-------------------------------------\n",
      "SPEARMAN R of USF\n",
      "(Family-controlled)\n",
      "-------------------------------------\n",
      "mean:  0.277\n",
      "95% ci:  0.266 0.289\n",
      "\n"
     ]
    }
   ],
   "source": [
    "print('-------------------------------------')\n",
    "print('SPEARMAN R of USF')\n",
    "print('(Family-controlled)')\n",
    "print('-------------------------------------')\n",
    "printResult(spearman)\n",
    "print()"
   ]
  },
  {
   "cell_type": "markdown",
   "metadata": {},
   "source": [
    "## Control Climate"
   ]
  },
  {
   "cell_type": "code",
   "execution_count": 27,
   "metadata": {},
   "outputs": [
    {
     "name": "stdout",
     "output_type": "stream",
     "text": [
      "Sample #: 999\n"
     ]
    }
   ],
   "source": [
    "spearman = []\n",
    "\n",
    "for i in range(1000):\n",
    "    clear_output(wait=True)\n",
    "    print('Sample #: {}'.format(i))\n",
    "    ids = climate[str(i)].toarray()[final_ind]\n",
    "    spearman.append(spearmanr(association,ids)[0])"
   ]
  },
  {
   "cell_type": "code",
   "execution_count": 28,
   "metadata": {},
   "outputs": [
    {
     "name": "stdout",
     "output_type": "stream",
     "text": [
      "-------------------------------------\n",
      "SPEARMAN R of USF\n",
      "(Climate-controlled)\n",
      "-------------------------------------\n",
      "mean:  0.256\n",
      "95% ci:  0.207 0.304\n",
      "\n"
     ]
    }
   ],
   "source": [
    "print('-------------------------------------')\n",
    "print('SPEARMAN R of USF')\n",
    "print('(Climate-controlled)')\n",
    "print('-------------------------------------')\n",
    "printResult(spearman)\n",
    "print()"
   ]
  },
  {
   "cell_type": "markdown",
   "metadata": {},
   "source": [
    "## Control Geography"
   ]
  },
  {
   "cell_type": "code",
   "execution_count": 25,
   "metadata": {},
   "outputs": [
    {
     "name": "stdout",
     "output_type": "stream",
     "text": [
      "Sample #: 999\n"
     ]
    }
   ],
   "source": [
    "spearman = []\n",
    "\n",
    "for i in range(1000):\n",
    "    clear_output(wait=True)\n",
    "    print('Sample #: {}'.format(i))\n",
    "    ids = geography[str(i)].toarray()[final_ind]\n",
    "    spearman.append(spearmanr(association,ids)[0])"
   ]
  },
  {
   "cell_type": "code",
   "execution_count": 26,
   "metadata": {},
   "outputs": [
    {
     "name": "stdout",
     "output_type": "stream",
     "text": [
      "-------------------------------------\n",
      "SPEARMAN R of USF\n",
      "(Geography-controlled)\n",
      "-------------------------------------\n",
      "mean:  0.259\n",
      "95% ci:  0.232 0.286\n",
      "\n"
     ]
    }
   ],
   "source": [
    "print('-------------------------------------')\n",
    "print('SPEARMAN R of USF')\n",
    "print('(Geography-controlled)')\n",
    "print('-------------------------------------')\n",
    "printResult(spearman)\n",
    "print()"
   ]
  }
 ],
 "metadata": {
  "kernelspec": {
   "display_name": "Python [default]",
   "language": "python",
   "name": "python3"
  },
  "language_info": {
   "codemirror_mode": {
    "name": "ipython",
    "version": 3
   },
   "file_extension": ".py",
   "mimetype": "text/x-python",
   "name": "python",
   "nbconvert_exporter": "python",
   "pygments_lexer": "ipython3",
   "version": "3.5.2"
  }
 },
 "nbformat": 4,
 "nbformat_minor": 1
}
