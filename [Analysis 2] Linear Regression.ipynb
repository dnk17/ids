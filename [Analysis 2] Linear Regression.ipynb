{
 "cells": [
  {
   "cell_type": "markdown",
   "metadata": {},
   "source": [
    "**Note**: \n",
    "\n",
    "- The results below correspond to Analysis 2 in the paper.\n",
    "- *Outputs*: Spearman R of HBC, W2V, concreteness, valence, frequency, controlled for three factors: family, geography, and climate"
   ]
  },
  {
   "cell_type": "code",
   "execution_count": 1,
   "metadata": {
    "collapsed": true
   },
   "outputs": [],
   "source": [
    "import numpy as np\n",
    "import pandas as pd\n",
    "from scipy.sparse import load_npz, csr_matrix\n",
    "from scipy.io import loadmat\n",
    "from scipy.stats import pearsonr, spearmanr\n",
    "import pickle as pk\n",
    "from IPython.display import clear_output"
   ]
  },
  {
   "cell_type": "code",
   "execution_count": 2,
   "metadata": {
    "collapsed": true
   },
   "outputs": [],
   "source": [
    "matrices = loadmat('data/colexMats.mat')"
   ]
  },
  {
   "cell_type": "code",
   "execution_count": 10,
   "metadata": {
    "collapsed": true
   },
   "outputs": [],
   "source": [
    "def printResult(alist):\n",
    "    print('mean: ',round(np.mean(alist),3))\n",
    "    print('95% ci: ', round(np.mean(alist) - 1.96*np.std(alist),3), round(np.mean(alist) + 1.96*np.std(alist),3))"
   ]
  },
  {
   "cell_type": "markdown",
   "metadata": {},
   "source": [
    "# Extract non-zero elements"
   ]
  },
  {
   "cell_type": "code",
   "execution_count": 3,
   "metadata": {
    "collapsed": true
   },
   "outputs": [],
   "source": [
    "sumMat = []\n",
    "\n",
    "for key in matrices.keys():\n",
    "    if type(matrices[key]) == type(matrices['207']):\n",
    "        sumMat.append(matrices[key])\n",
    "\n",
    "totalMat = sum(sumMat)"
   ]
  },
  {
   "cell_type": "code",
   "execution_count": 4,
   "metadata": {
    "collapsed": true
   },
   "outputs": [],
   "source": [
    "# Pairs that are identical in English\n",
    "\n",
    "eng_ex = load_npz('data/eng_ex.npz')"
   ]
  },
  {
   "cell_type": "code",
   "execution_count": 5,
   "metadata": {
    "collapsed": true
   },
   "outputs": [],
   "source": [
    "upper = set(zip(*np.triu_indices(eng_ex.shape[0])))\n",
    "diagonal = set([(i,i) for i in range(eng_ex.shape[0])])\n",
    "english = set(zip(*np.nonzero(eng_ex)))\n",
    "non_zero = set(zip(*np.nonzero(totalMat)))\n",
    "    \n",
    "final_ind = (upper & non_zero) - diagonal - english\n",
    "    \n",
    "final_ind = np.array(list(final_ind))\n",
    "final_ind = (final_ind[:,0],final_ind[:,1])"
   ]
  },
  {
   "cell_type": "code",
   "execution_count": 7,
   "metadata": {},
   "outputs": [],
   "source": [
    "hbc = load_npz('data/hbc.npz')\n",
    "w2v = load_npz('data/w2v.npz')\n",
    "conc = load_npz('data/conc.npz')\n",
    "val = load_npz('data/valence.npz')\n",
    "freq = load_npz('data/frequency.npz')"
   ]
  },
  {
   "cell_type": "code",
   "execution_count": 8,
   "metadata": {
    "collapsed": true
   },
   "outputs": [],
   "source": [
    "hbc_array = np.array(hbc.toarray()[final_ind])\n",
    "w2v_array = np.array(w2v.toarray()[final_ind])\n",
    "conc_array = np.array(conc.toarray()[final_ind])\n",
    "val_array = np.array(val.toarray()[final_ind])\n",
    "freq_array = np.array(freq.toarray()[final_ind])"
   ]
  },
  {
   "cell_type": "code",
   "execution_count": 9,
   "metadata": {
    "collapsed": true
   },
   "outputs": [],
   "source": [
    "family = loadmat('data/colex_family.mat')\n",
    "climate = loadmat('data/colex_climate.mat')\n",
    "geography = loadmat('data/colex_geography.mat')"
   ]
  },
  {
   "cell_type": "markdown",
   "metadata": {},
   "source": [
    "# Linear Regression"
   ]
  },
  {
   "cell_type": "markdown",
   "metadata": {},
   "source": [
    "## Control Family"
   ]
  },
  {
   "cell_type": "code",
   "execution_count": 13,
   "metadata": {},
   "outputs": [
    {
     "name": "stdout",
     "output_type": "stream",
     "text": [
      "Sample #: 999\n"
     ]
    }
   ],
   "source": [
    "predictors = [hbc_array, w2v_array, conc_array, val_array, freq_array]\n",
    "\n",
    "Family = {}\n",
    "\n",
    "for i in range(5): \n",
    "    spearman = []\n",
    "    \n",
    "    for j in range(1000):\n",
    "        clear_output(wait=True)\n",
    "        print('Sample #: {}'.format(j))\n",
    "        ids = family[str(j)].toarray()[final_ind]\n",
    "        spearman.append(spearmanr(predictors[i],ids)[0])\n",
    "        \n",
    "    Family[i] = spearman "
   ]
  },
  {
   "cell_type": "code",
   "execution_count": 15,
   "metadata": {},
   "outputs": [
    {
     "name": "stdout",
     "output_type": "stream",
     "text": [
      "-------------------------------------\n",
      "SPEARMAN R of HBC\n",
      "(Family-controlled)\n",
      "-------------------------------------\n",
      "mean:  0.274\n",
      "95% ci:  0.262 0.286\n",
      "\n",
      "-------------------------------------\n",
      "SPEARMAN R of W2V\n",
      "(Family-controlled)\n",
      "-------------------------------------\n",
      "mean:  0.225\n",
      "95% ci:  0.209 0.242\n",
      "\n",
      "-------------------------------------\n",
      "SPEARMAN R of CONCRETENESS\n",
      "(Family-controlled)\n",
      "-------------------------------------\n",
      "mean:  -0.113\n",
      "95% ci:  -0.132 -0.094\n",
      "\n",
      "-------------------------------------\n",
      "SPEARMAN R of VALENCE\n",
      "(Family-controlled)\n",
      "-------------------------------------\n",
      "mean:  -0.079\n",
      "95% ci:  -0.092 -0.065\n",
      "\n",
      "-------------------------------------\n",
      "SPEARMAN R of FREQUENCY\n",
      "(Family-controlled)\n",
      "-------------------------------------\n",
      "mean:  -0.037\n",
      "95% ci:  -0.054 -0.021\n",
      "\n"
     ]
    }
   ],
   "source": [
    "title = ['HBC','W2V','CONCRETENESS','VALENCE','FREQUENCY']\n",
    "\n",
    "for i in range(5):\n",
    "    print('-------------------------------------')\n",
    "    print('SPEARMAN R of {}'.format(title[i]))\n",
    "    print('(Family-controlled)')\n",
    "    print('-------------------------------------')\n",
    "    printResult(Family[i])\n",
    "    print()"
   ]
  },
  {
   "cell_type": "markdown",
   "metadata": {},
   "source": [
    "## Control Climate"
   ]
  },
  {
   "cell_type": "code",
   "execution_count": 18,
   "metadata": {},
   "outputs": [
    {
     "name": "stdout",
     "output_type": "stream",
     "text": [
      "Sample #: 999\n"
     ]
    }
   ],
   "source": [
    "Climate = {}\n",
    "\n",
    "for i in range(5): \n",
    "    spearman = []\n",
    "    \n",
    "    for j in range(1000):\n",
    "        clear_output(wait=True)\n",
    "        print('Sample #: {}'.format(j))\n",
    "        ids = climate[str(j)].toarray()[final_ind]\n",
    "        spearman.append(spearmanr(predictors[i],ids)[0])\n",
    "        \n",
    "    Climate[i] = spearman "
   ]
  },
  {
   "cell_type": "code",
   "execution_count": 19,
   "metadata": {},
   "outputs": [
    {
     "name": "stdout",
     "output_type": "stream",
     "text": [
      "-------------------------------------\n",
      "SPEARMAN R of HBC\n",
      "(Climate-controlled)\n",
      "-------------------------------------\n",
      "mean:  0.26\n",
      "95% ci:  0.223 0.297\n",
      "\n",
      "-------------------------------------\n",
      "SPEARMAN R of W2V\n",
      "(Climate-controlled)\n",
      "-------------------------------------\n",
      "mean:  0.189\n",
      "95% ci:  0.121 0.258\n",
      "\n",
      "-------------------------------------\n",
      "SPEARMAN R of CONCRETENESS\n",
      "(Climate-controlled)\n",
      "-------------------------------------\n",
      "mean:  -0.079\n",
      "95% ci:  -0.142 -0.017\n",
      "\n",
      "-------------------------------------\n",
      "SPEARMAN R of VALENCE\n",
      "(Climate-controlled)\n",
      "-------------------------------------\n",
      "mean:  -0.075\n",
      "95% ci:  -0.095 -0.056\n",
      "\n",
      "-------------------------------------\n",
      "SPEARMAN R of FREQUENCY\n",
      "(Climate-controlled)\n",
      "-------------------------------------\n",
      "mean:  0.017\n",
      "95% ci:  -0.087 0.121\n",
      "\n"
     ]
    }
   ],
   "source": [
    "for i in range(5):\n",
    "    print('-------------------------------------')\n",
    "    print('SPEARMAN R of {}'.format(title[i]))\n",
    "    print('(Climate-controlled)')\n",
    "    print('-------------------------------------')\n",
    "    printResult(Climate[i])\n",
    "    print()"
   ]
  },
  {
   "cell_type": "markdown",
   "metadata": {},
   "source": [
    "## Control Geography"
   ]
  },
  {
   "cell_type": "code",
   "execution_count": 16,
   "metadata": {},
   "outputs": [
    {
     "name": "stdout",
     "output_type": "stream",
     "text": [
      "Sample #: 999\n"
     ]
    }
   ],
   "source": [
    "Geography = {}\n",
    "\n",
    "for i in range(5): \n",
    "    spearman = []\n",
    "    \n",
    "    for j in range(1000):\n",
    "        clear_output(wait=True)\n",
    "        print('Sample #: {}'.format(j))\n",
    "        ids = geography[str(j)].toarray()[final_ind]\n",
    "        spearman.append(spearmanr(predictors[i],ids)[0])\n",
    "        \n",
    "    Geography[i] = spearman "
   ]
  },
  {
   "cell_type": "code",
   "execution_count": 17,
   "metadata": {},
   "outputs": [
    {
     "name": "stdout",
     "output_type": "stream",
     "text": [
      "-------------------------------------\n",
      "SPEARMAN R of HBC\n",
      "(Geography-controlled)\n",
      "-------------------------------------\n",
      "mean:  0.262\n",
      "95% ci:  0.236 0.287\n",
      "\n",
      "-------------------------------------\n",
      "SPEARMAN R of W2V\n",
      "(Geography-controlled)\n",
      "-------------------------------------\n",
      "mean:  0.185\n",
      "95% ci:  0.145 0.226\n",
      "\n",
      "-------------------------------------\n",
      "SPEARMAN R of CONCRETENESS\n",
      "(Geography-controlled)\n",
      "-------------------------------------\n",
      "mean:  -0.078\n",
      "95% ci:  -0.117 -0.039\n",
      "\n",
      "-------------------------------------\n",
      "SPEARMAN R of VALENCE\n",
      "(Geography-controlled)\n",
      "-------------------------------------\n",
      "mean:  -0.07\n",
      "95% ci:  -0.09 -0.05\n",
      "\n",
      "-------------------------------------\n",
      "SPEARMAN R of FREQUENCY\n",
      "(Geography-controlled)\n",
      "-------------------------------------\n",
      "mean:  -0.01\n",
      "95% ci:  -0.068 0.048\n",
      "\n"
     ]
    }
   ],
   "source": [
    "for i in range(5):\n",
    "    print('-------------------------------------')\n",
    "    print('SPEARMAN R of {}'.format(title[i]))\n",
    "    print('(Geography-controlled)')\n",
    "    print('-------------------------------------')\n",
    "    printResult(Geography[i])\n",
    "    print()"
   ]
  }
 ],
 "metadata": {
  "kernelspec": {
   "display_name": "Python [default]",
   "language": "python",
   "name": "python3"
  },
  "language_info": {
   "codemirror_mode": {
    "name": "ipython",
    "version": 3
   },
   "file_extension": ".py",
   "mimetype": "text/x-python",
   "name": "python",
   "nbconvert_exporter": "python",
   "pygments_lexer": "ipython3",
   "version": "3.5.2"
  }
 },
 "nbformat": 4,
 "nbformat_minor": 1
}
