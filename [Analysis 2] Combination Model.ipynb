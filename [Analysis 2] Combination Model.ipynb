{
 "cells": [
  {
   "cell_type": "markdown",
   "metadata": {},
   "source": [
    "**Note**: \n",
    "\n",
    "- The results below correspond to Analysis 2 in the paper.\n",
    "- *Outputs*: \n",
    "    - Spearman R of multivariate regression.\n",
    "    - Variable coefficients from multivariate regression."
   ]
  },
  {
   "cell_type": "code",
   "execution_count": 2,
   "metadata": {
    "collapsed": true
   },
   "outputs": [],
   "source": [
    "import numpy as np\n",
    "import pandas as pd\n",
    "from scipy.sparse import load_npz, csr_matrix, save_npz\n",
    "from scipy.io import loadmat\n",
    "from scipy.stats import pearsonr, spearmanr\n",
    "import math\n",
    "from sklearn.preprocessing import scale\n",
    "from sklearn import linear_model\n",
    "from sklearn.metrics import r2_score\n",
    "from IPython.display import clear_output\n",
    "from mlxtend.evaluate import permutation_test\n",
    "import matplotlib as mpl\n",
    "mpl.use('TkAgg')\n",
    "%matplotlib inline\n",
    "import seaborn as sns"
   ]
  },
  {
   "cell_type": "code",
   "execution_count": 3,
   "metadata": {
    "collapsed": true
   },
   "outputs": [],
   "source": [
    "from pylab import rcParams\n",
    "\n",
    "params = {'axes.spines.top'    : False,\n",
    "          'axes.spines.right'  : False,\n",
    "          'axes.labelsize': 12, \n",
    "          'axes.titlesize': 12,\n",
    "          'font.size': 12, \n",
    "          'legend.fontsize': 12, \n",
    "          'xtick.labelsize': 12,\n",
    "          'ytick.labelsize': 12,\n",
    "          'ytick.direction':'in',\n",
    "          'figure.figsize': [5,5],\n",
    "          'font.family': 'serif',}\n",
    "\n",
    "mpl.pyplot.rcParams.update(params)"
   ]
  },
  {
   "cell_type": "code",
   "execution_count": 4,
   "metadata": {
    "collapsed": true
   },
   "outputs": [],
   "source": [
    "matrices = loadmat('data/colexMats.mat')"
   ]
  },
  {
   "cell_type": "code",
   "execution_count": 5,
   "metadata": {
    "collapsed": true
   },
   "outputs": [],
   "source": [
    "sumMat = []\n",
    "\n",
    "for key in matrices.keys():\n",
    "    if type(matrices[key]) == type(matrices['207']):\n",
    "        sumMat.append(matrices[key])"
   ]
  },
  {
   "cell_type": "code",
   "execution_count": 6,
   "metadata": {
    "collapsed": true
   },
   "outputs": [],
   "source": [
    "totalMat = sum(sumMat)"
   ]
  },
  {
   "cell_type": "code",
   "execution_count": 7,
   "metadata": {
    "collapsed": true
   },
   "outputs": [],
   "source": [
    "eng_ex = load_npz('data/eng_ex.npz')"
   ]
  },
  {
   "cell_type": "code",
   "execution_count": 8,
   "metadata": {
    "collapsed": true
   },
   "outputs": [],
   "source": [
    "upper = set(zip(*np.triu_indices(eng_ex.shape[0])))\n",
    "diagonal = set([(i,i) for i in range(eng_ex.shape[0])])\n",
    "english = set(zip(*np.nonzero(eng_ex)))\n",
    "non_zero = set(zip(*np.nonzero(totalMat)))\n",
    "    \n",
    "final_ind = (upper & non_zero) - diagonal - english\n",
    "    \n",
    "final_ind = np.array(list(final_ind))\n",
    "final_ind = (final_ind[:,0],final_ind[:,1])"
   ]
  },
  {
   "cell_type": "code",
   "execution_count": 9,
   "metadata": {
    "collapsed": true
   },
   "outputs": [],
   "source": [
    "family = loadmat('data/colex_family.mat')\n",
    "climate = loadmat('data/colex_climate.mat')\n",
    "geography = loadmat('data/colex_geography.mat')"
   ]
  },
  {
   "cell_type": "markdown",
   "metadata": {},
   "source": [
    "# Import matrices"
   ]
  },
  {
   "cell_type": "code",
   "execution_count": 10,
   "metadata": {
    "collapsed": true
   },
   "outputs": [],
   "source": [
    "association = load_npz('data/hbc.npz')\n",
    "frequency = load_npz('data/frequency.npz')\n",
    "similarity = load_npz('data/w2v.npz')\n",
    "concrete = load_npz('data/conc.npz')\n",
    "valence = load_npz('data/valence.npz')"
   ]
  },
  {
   "cell_type": "code",
   "execution_count": 11,
   "metadata": {
    "collapsed": true
   },
   "outputs": [],
   "source": [
    "association_array = association.toarray()[final_ind]\n",
    "frequency_array = frequency.toarray()[final_ind]\n",
    "similarity_array = similarity.toarray()[final_ind]\n",
    "concrete_array = concrete.toarray()[final_ind]\n",
    "valence_array = valence.toarray()[final_ind]"
   ]
  },
  {
   "cell_type": "code",
   "execution_count": 12,
   "metadata": {
    "collapsed": true
   },
   "outputs": [],
   "source": [
    "scale_asso = scale(association_array)\n",
    "scale_freq = scale(frequency_array)\n",
    "scale_sim = scale(similarity_array)\n",
    "scale_conc = scale(concrete_array)\n",
    "scale_val = scale(valence_array)"
   ]
  },
  {
   "cell_type": "code",
   "execution_count": 18,
   "metadata": {
    "collapsed": true
   },
   "outputs": [],
   "source": [
    "arrays = pd.DataFrame(data = {0: scale_asso, 1: scale_sim,\n",
    "                     2:scale_conc,3:scale_val,\n",
    "                     4:scale_freq})\n",
    "\n",
    "arrays.to_csv('inputs.csv',index = False)"
   ]
  },
  {
   "cell_type": "markdown",
   "metadata": {},
   "source": [
    "# Multivariate Regression"
   ]
  },
  {
   "cell_type": "code",
   "execution_count": 11,
   "metadata": {
    "collapsed": true
   },
   "outputs": [],
   "source": [
    "X = np.array(list(zip(*[scale_asso,scale_freq,scale_sim,scale_conc,scale_val])))"
   ]
  },
  {
   "cell_type": "code",
   "execution_count": 12,
   "metadata": {
    "collapsed": true
   },
   "outputs": [],
   "source": [
    "def r_square(X,y):\n",
    "    x = np.array(X)\n",
    "    regr = linear_model.LinearRegression()\n",
    "    regr.fit(X, y)\n",
    "    y_pred = regr.predict(X)\n",
    "    return ((regr.coef_, r2_score(y,y_pred)))\n",
    "\n",
    "def normal_r(coeffs,X,y):\n",
    "    pred = 0 \n",
    "    for i in range(5):\n",
    "        pred += X[:,i]*coeffs[i]\n",
    "    return(pearsonr(pred,y)[0],spearmanr(pred,y)[0])\n"
   ]
  },
  {
   "cell_type": "markdown",
   "metadata": {},
   "source": [
    "## Control Family"
   ]
  },
  {
   "cell_type": "code",
   "execution_count": 13,
   "metadata": {},
   "outputs": [
    {
     "name": "stdout",
     "output_type": "stream",
     "text": [
      "Sample #: 999\n"
     ]
    }
   ],
   "source": [
    "coefficients_fam_hbc = []\n",
    "spearman = []\n",
    "\n",
    "\n",
    "for i in range(1000):\n",
    "    clear_output(wait=True)\n",
    "    print('Sample #: {}'.format(i))\n",
    "    fam_array = scale(family[str(i)].toarray()[final_ind])\n",
    "    coeff,r2 = r_square(X,fam_array)\n",
    "    pear,spear = normal_r(coeff,X,fam_array)\n",
    "    coefficients_fam_hbc.append(coeff)\n",
    "    pearson.append(pear)\n",
    "    spearman.append(spear)"
   ]
  },
  {
   "cell_type": "code",
   "execution_count": 14,
   "metadata": {},
   "outputs": [
    {
     "name": "stdout",
     "output_type": "stream",
     "text": [
      "Pearson, control Family\n",
      "0.343\n",
      "0.337 0.35\n",
      "\n",
      "Spearman, control Family\n",
      "0.254\n",
      "0.238 0.27\n",
      "0.008\n"
     ]
    }
   ],
   "source": [
    "print('Pearson, control Family')\n",
    "print(round(np.mean(pearson),3))\n",
    "print(round(np.mean(pearson) - 1.96* np.std(pearson),3), round(np.mean(pearson) + 1.96* np.std(pearson),3))\n",
    "print()\n",
    "print('Spearman, control Family')\n",
    "print(round(np.mean(spearman),3))\n",
    "print(round(np.mean(spearman) - 1.96* np.std(spearman),3), round(np.mean(spearman) + 1.96* np.std(spearman),3))\n",
    "print(round(np.std(spearman),3))"
   ]
  },
  {
   "cell_type": "markdown",
   "metadata": {},
   "source": [
    "## Control Geography"
   ]
  },
  {
   "cell_type": "code",
   "execution_count": 15,
   "metadata": {},
   "outputs": [
    {
     "name": "stdout",
     "output_type": "stream",
     "text": [
      "Sample #: 999\n"
     ]
    }
   ],
   "source": [
    "r_2= [] \n",
    "coefficients_geo_hbc = []\n",
    "pearson = []\n",
    "spearman = []\n",
    "\n",
    "\n",
    "for i in range(1000):\n",
    "    clear_output(wait=True)\n",
    "    print('Sample #: {}'.format(i))\n",
    "    fam_array = scale(geography[str(i)].toarray()[final_ind])\n",
    "    coeff,r2 = r_square(X,fam_array)\n",
    "    pear,spear = normal_r(coeff,X,fam_array)\n",
    "    r_2.append(r2)\n",
    "    coefficients_geo_hbc.append(coeff)\n",
    "    pearson.append(pear)\n",
    "    spearman.append(spear)"
   ]
  },
  {
   "cell_type": "code",
   "execution_count": 16,
   "metadata": {},
   "outputs": [
    {
     "name": "stdout",
     "output_type": "stream",
     "text": [
      "R-Square, control Geography\n",
      "0.088\n",
      "0.069 0.107\n",
      "\n",
      "Pearson, control Geography\n",
      "0.296\n",
      "0.264 0.328\n",
      "\n",
      "Spearman, control Geography\n",
      "0.217\n",
      "0.177 0.257\n",
      "0.02\n"
     ]
    }
   ],
   "source": [
    "print('R-Square, control Geography')\n",
    "print(round(np.mean(r_2),3))\n",
    "print(round(np.mean(r_2) - 1.96* np.std(r_2),3), round(np.mean(r_2) + 1.96* np.std(r_2),3))\n",
    "print()\n",
    "print('Pearson, control Geography')\n",
    "print(round(np.mean(pearson),3))\n",
    "print(round(np.mean(pearson) - 1.96* np.std(pearson),3), round(np.mean(pearson) + 1.96* np.std(pearson),3))\n",
    "print()\n",
    "print('Spearman, control Geography')\n",
    "print(round(np.mean(spearman),3))\n",
    "print(round(np.mean(spearman) - 1.96* np.std(spearman),3), round(np.mean(spearman) + 1.96* np.std(spearman),3))\n",
    "print(round(np.std(spearman),3))"
   ]
  },
  {
   "cell_type": "markdown",
   "metadata": {},
   "source": [
    "## Control Climate"
   ]
  },
  {
   "cell_type": "code",
   "execution_count": 17,
   "metadata": {},
   "outputs": [
    {
     "name": "stdout",
     "output_type": "stream",
     "text": [
      "Sample #: 999\n"
     ]
    }
   ],
   "source": [
    "r_2= [] \n",
    "coefficients_clim_hbc = []\n",
    "pearson = []\n",
    "spearman = []\n",
    "\n",
    "\n",
    "for i in range(1000):\n",
    "    clear_output(wait=True)\n",
    "    print('Sample #: {}'.format(i))\n",
    "    fam_array = scale(climate[str(i)].toarray()[final_ind])\n",
    "    coeff,r2 = r_square(X,fam_array)\n",
    "    pear,spear = normal_r(coeff,X,fam_array)\n",
    "    r_2.append(r2)\n",
    "    coefficients_clim_hbc.append(coeff)\n",
    "    pearson.append(pear)\n",
    "    spearman.append(spear)"
   ]
  },
  {
   "cell_type": "code",
   "execution_count": 18,
   "metadata": {},
   "outputs": [
    {
     "name": "stdout",
     "output_type": "stream",
     "text": [
      "R-Square, control Climate\n",
      "0.096\n",
      "0.076 0.117\n",
      "\n",
      "Pearson, control Climate\n",
      "0.31\n",
      "0.277 0.343\n",
      "\n",
      "Spearman, control Climate\n",
      "0.232\n",
      "0.178 0.286\n",
      "0.028\n"
     ]
    }
   ],
   "source": [
    "print('R-Square, control Climate')\n",
    "print(round(np.mean(r_2),3))\n",
    "print(round(np.mean(r_2) - 1.96* np.std(r_2),3), round(np.mean(r_2) + 1.96* np.std(r_2),3))\n",
    "print()\n",
    "print('Pearson, control Climate')\n",
    "print(round(np.mean(pearson),3))\n",
    "print(round(np.mean(pearson) - 1.96* np.std(pearson),3), round(np.mean(pearson) + 1.96* np.std(pearson),3))\n",
    "print()\n",
    "print('Spearman, control Climate')\n",
    "print(round(np.mean(spearman),3))\n",
    "print(round(np.mean(spearman) - 1.96* np.std(spearman),3), round(np.mean(spearman) + 1.96* np.std(spearman),3))\n",
    "print(round(np.std(spearman),3))"
   ]
  },
  {
   "cell_type": "markdown",
   "metadata": {},
   "source": [
    "# Output coefficients to CSV"
   ]
  },
  {
   "cell_type": "code",
   "execution_count": 19,
   "metadata": {
    "collapsed": true
   },
   "outputs": [],
   "source": [
    "df1 = pd.DataFrame(data=coefficients_fam_hbc,columns = ['hbc','frequency','w2v','concrete','valence'])"
   ]
  },
  {
   "cell_type": "code",
   "execution_count": 20,
   "metadata": {
    "collapsed": true
   },
   "outputs": [],
   "source": [
    "df2 = pd.DataFrame(data=coefficients_clim_hbc,columns = ['hbc','frequency','w2v','concrete','valence'])\n",
    "df3 = pd.DataFrame(data=coefficients_geo_hbc,columns = ['hbc','frequency','w2v','concrete','valence'])"
   ]
  },
  {
   "cell_type": "code",
   "execution_count": 21,
   "metadata": {
    "collapsed": true
   },
   "outputs": [],
   "source": [
    "writer = pd.ExcelWriter('output_coefficients.xlsx')\n",
    "df1.to_excel(writer,'hbc_family')\n",
    "df2.to_excel(writer,'hbc_climate')\n",
    "df3.to_excel(writer,'hbc_geography')\n",
    "writer.save()"
   ]
  },
  {
   "cell_type": "code",
   "execution_count": 4,
   "metadata": {
    "collapsed": true
   },
   "outputs": [],
   "source": [
    "xls = pd.ExcelFile('figures/output_coefficients.xlsx')\n",
    "fam = pd.read_excel(xls, 'hbc_family')\n",
    "clim = pd.read_excel(xls, 'hbc_climate')\n",
    "geo = pd.read_excel(xls, 'hbc_geography')"
   ]
  }
 ],
 "metadata": {
  "kernelspec": {
   "display_name": "Python [default]",
   "language": "python",
   "name": "python3"
  },
  "language_info": {
   "codemirror_mode": {
    "name": "ipython",
    "version": 3
   },
   "file_extension": ".py",
   "mimetype": "text/x-python",
   "name": "python",
   "nbconvert_exporter": "python",
   "pygments_lexer": "ipython3",
   "version": "3.5.2"
  }
 },
 "nbformat": 4,
 "nbformat_minor": 1
}
