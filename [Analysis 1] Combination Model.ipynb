{
 "cells": [
  {
   "cell_type": "markdown",
   "metadata": {},
   "source": [
    "**Note**: \n",
    "\n",
    "- The results below correspond to Analysis 1 in the paper.\n",
    "- *Outputs*: \n",
    "    - Predictive accuracies of association using the combined model (reported in Figure 2A).\n",
    "    - Variable coefficients in multiple logistic regression.\n",
    "    - Figure 2A, 2B, 2C. "
   ]
  },
  {
   "cell_type": "code",
   "execution_count": 1,
   "metadata": {
    "collapsed": true
   },
   "outputs": [],
   "source": [
    "import numpy as np\n",
    "import pandas as pd\n",
    "from scipy.sparse import load_npz, csr_matrix\n",
    "from scipy.io import loadmat\n",
    "from scipy.stats import pearsonr, spearmanr\n",
    "import pickle as pk\n",
    "from IPython.display import clear_output\n",
    "import random\n",
    "from sklearn.model_selection import train_test_split\n",
    "from sklearn import linear_model\n",
    "from sklearn.preprocessing import scale\n",
    "import matplotlib as mpl\n",
    "mpl.use('TkAgg')\n",
    "%matplotlib inline\n",
    "import seaborn as sns\n",
    "\n",
    "sns.set_style('whitegrid')\n",
    "sns.set_style(\"ticks\", {\"xtick.major.size\": 0, \"ytick.major.size\": 8})\n",
    "\n",
    "from pylab import rcParams\n",
    "\n",
    "params = {'axes.spines.top'    : False,\n",
    "          'axes.spines.right'  : False,\n",
    "          'axes.labelsize': 10, \n",
    "          'axes.titlesize': 12,\n",
    "          'font.size': 12, \n",
    "          'legend.fontsize': 12, \n",
    "          'xtick.labelsize': 10,\n",
    "          'ytick.labelsize': 10,\n",
    "          'ytick.direction':'in',\n",
    "          'figure.figsize': [15,5],\n",
    "          'font.family': 'serif',}\n",
    "\n",
    "mpl.pyplot.rcParams.update(params)"
   ]
  },
  {
   "cell_type": "code",
   "execution_count": 2,
   "metadata": {
    "collapsed": true
   },
   "outputs": [],
   "source": [
    "matrices = loadmat('data/colexMats.mat')\n",
    "size = matrices['135'].shape\n",
    "min_NLang = 1"
   ]
  },
  {
   "cell_type": "code",
   "execution_count": 11,
   "metadata": {
    "collapsed": true
   },
   "outputs": [],
   "source": [
    "association = load_npz('data/hbc.npz')\n",
    "frequency = load_npz('data/frequency.npz')\n",
    "similarity = load_npz('data/w2v.npz')\n",
    "concrete = load_npz('data/conc.npz')\n",
    "valence = load_npz('data/valence.npz')"
   ]
  },
  {
   "cell_type": "code",
   "execution_count": 42,
   "metadata": {
    "collapsed": true
   },
   "outputs": [],
   "source": [
    "def printResult(list, ci = False):\n",
    "    print('mean: ',round(np.mean(list),3))\n",
    "    if ci == True: \n",
    "        print('95% ci: ', round(np.mean(list) - 1.96*np.std(list),3), round(np.mean(list) + 1.96*np.std(list),3))\n",
    "    else: \n",
    "        print('mean ± std: ',round(np.mean(list) - np.std(list),3), round(np.mean(list) + np.std(list),3))"
   ]
  },
  {
   "cell_type": "markdown",
   "metadata": {},
   "source": [
    "# Define binary matrix"
   ]
  },
  {
   "cell_type": "code",
   "execution_count": 30,
   "metadata": {
    "collapsed": true
   },
   "outputs": [],
   "source": [
    "\"\"\"If there is one language that colexifies a pair: \n",
    "    entry = 1 \n",
    "else:\n",
    "    entry = 0\"\"\" \n",
    "\n",
    "individual_binarize = {}\n",
    "\n",
    "for i in matrices:\n",
    "    if type(matrices[i]) == type(matrices['207']):\n",
    "        ind = np.nonzero(matrices[i])\n",
    "        mat = np.zeros(size)\n",
    "        mat[ind] = 1 \n",
    "        individual_binarize[i] = mat "
   ]
  },
  {
   "cell_type": "code",
   "execution_count": 5,
   "metadata": {
    "collapsed": true
   },
   "outputs": [],
   "source": [
    "sumMat = sum(individual_binarize.values())"
   ]
  },
  {
   "cell_type": "code",
   "execution_count": 6,
   "metadata": {
    "collapsed": true
   },
   "outputs": [],
   "source": [
    "# Pairs that are identical in English\n",
    "\n",
    "eng_ex = load_npz('data/eng_ex.npz')\n",
    "english = set(zip(*np.nonzero(eng_ex)))"
   ]
  },
  {
   "cell_type": "code",
   "execution_count": 7,
   "metadata": {
    "collapsed": true
   },
   "outputs": [],
   "source": [
    "colexified = np.argwhere(sumMat >= min_NLang)\n",
    "colex_set = set([tuple(i) for i in colexified]) - english"
   ]
  },
  {
   "cell_type": "code",
   "execution_count": 8,
   "metadata": {
    "collapsed": true
   },
   "outputs": [],
   "source": [
    "colex_ind = np.array(list(colex_set))\n",
    "colex_ind = (colex_ind[:,0],colex_ind[:,1])"
   ]
  },
  {
   "cell_type": "code",
   "execution_count": 9,
   "metadata": {
    "collapsed": true
   },
   "outputs": [],
   "source": [
    "all_ind = list(zip(*np.indices(size).reshape(2, size[0]*size[0])))"
   ]
  },
  {
   "cell_type": "code",
   "execution_count": 10,
   "metadata": {
    "collapsed": true
   },
   "outputs": [],
   "source": [
    "zero_set = set(all_ind) - colex_set - english"
   ]
  },
  {
   "cell_type": "markdown",
   "metadata": {},
   "source": [
    "# Perform multiple logistic regression"
   ]
  },
  {
   "cell_type": "code",
   "execution_count": 20,
   "metadata": {},
   "outputs": [
    {
     "name": "stdout",
     "output_type": "stream",
     "text": [
      "Sample #: 99\n"
     ]
    }
   ],
   "source": [
    "overall = []\n",
    "\n",
    "for rep in range(100):\n",
    "    clear_output(wait=True)\n",
    "    print('Sample #: {}'.format(rep))\n",
    "    sample_zero = random.sample(list(zero_set),len(colex_set))\n",
    "    sample_zero = np.array(list(sample_zero))\n",
    "    sample_zero = (sample_zero[:,0],sample_zero[:,1])\n",
    "    \n",
    "    target = np.array([1]*len(colex_set) + [0]*len(colex_set))\n",
    "    \n",
    "    association_array = list(association.toarray()[colex_ind]) + list(association.toarray()[sample_zero])\n",
    "    frequency_array = list(frequency.toarray()[colex_ind]) + list(frequency.toarray()[sample_zero])\n",
    "    similarity_array = list(similarity.toarray()[colex_ind]) + list(similarity.toarray()[sample_zero])\n",
    "    concrete_array = list(concrete.toarray()[colex_ind]) + list(concrete.toarray()[sample_zero])\n",
    "    valence_array = list(valence.toarray()[colex_ind]) + list(valence.toarray()[sample_zero])\n",
    "    \n",
    "    scale_asso = scale(association_array)\n",
    "    scale_freq = scale(frequency_array)\n",
    "    scale_sim = scale(similarity_array)\n",
    "    scale_conc = scale(concrete_array)\n",
    "    scale_val = scale(valence_array)\n",
    "    \n",
    "    target = target.reshape(-1,1)\n",
    "    data = np.array(list(zip(*[scale_asso,scale_freq,scale_sim,scale_conc,scale_val])))\n",
    "    \n",
    "    acc = [] #Accuracy \n",
    "    \n",
    "    for fold in range(10):\n",
    "        X_train, X_test, y_train, y_test = \\\n",
    "        train_test_split(data, target, test_size=0.1)\n",
    "        \n",
    "        logistic = linear_model.LogisticRegression()\n",
    "        model = logistic.fit(X_train, y_train)\n",
    "        acc.append(model.score(X_test, y_test))\n",
    "    \n",
    "    overall.append(np.mean(acc))"
   ]
  },
  {
   "cell_type": "code",
   "execution_count": 40,
   "metadata": {},
   "outputs": [
    {
     "name": "stdout",
     "output_type": "stream",
     "text": [
      "-------------------------------------\n",
      "PREDICTIVE ACCURACY of COMBINED MODEL\n",
      "-------------------------------------\n",
      "mean:  0.685\n",
      "mean ± std:  0.683 0.687\n",
      "\n"
     ]
    }
   ],
   "source": [
    "print('-------------------------------------')\n",
    "print('PREDICTIVE ACCURACY of COMBINED MODEL')\n",
    "print('-------------------------------------')\n",
    "printResult(overall)\n",
    "print()"
   ]
  },
  {
   "cell_type": "markdown",
   "metadata": {},
   "source": [
    "# Calculate variable coefficients"
   ]
  },
  {
   "cell_type": "code",
   "execution_count": 12,
   "metadata": {},
   "outputs": [
    {
     "name": "stdout",
     "output_type": "stream",
     "text": [
      "Sample #: 99\n"
     ]
    }
   ],
   "source": [
    "coeff = [] \n",
    "\n",
    "for rep in range(100):\n",
    "    clear_output(wait=True)\n",
    "    print('Sample #: {}'.format(rep))\n",
    "    sample_zero = random.sample(list(zero_set),len(colex_set))\n",
    "    sample_zero = np.array(list(sample_zero))\n",
    "    sample_zero = (sample_zero[:,0],sample_zero[:,1])\n",
    "    \n",
    "    target = np.array([1]*len(colex_set) + [0]*len(colex_set))\n",
    "    \n",
    "    association_array = list(association.toarray()[colex_ind]) + list(association.toarray()[sample_zero])\n",
    "    frequency_array = list(frequency.toarray()[colex_ind]) + list(frequency.toarray()[sample_zero])\n",
    "    similarity_array = list(similarity.toarray()[colex_ind]) + list(similarity.toarray()[sample_zero])\n",
    "    concrete_array = list(concrete.toarray()[colex_ind]) + list(concrete.toarray()[sample_zero])\n",
    "    valence_array = list(valence.toarray()[colex_ind]) + list(valence.toarray()[sample_zero])\n",
    "    \n",
    "    scale_asso = scale(association_array)\n",
    "    scale_freq = scale(frequency_array)\n",
    "    scale_sim = scale(similarity_array)\n",
    "    scale_conc = scale(concrete_array)\n",
    "    scale_val = scale(valence_array)\n",
    "    \n",
    "    target = target.reshape(-1,1)\n",
    "    data = np.array(list(zip(*[scale_asso,scale_freq,scale_sim,scale_conc,scale_val])))\n",
    "        \n",
    "    logistic = linear_model.LogisticRegression()\n",
    "    logistic.fit(data, target)\n",
    "    \n",
    "    coeff.append(logistic.coef_[0])"
   ]
  },
  {
   "cell_type": "code",
   "execution_count": 13,
   "metadata": {
    "collapsed": true
   },
   "outputs": [],
   "source": [
    "coeff = np.array(coeff)\n",
    "asso, freq, sim, conc, val = coeff[:,0],coeff[:,1],coeff[:,2],coeff[:,3],coeff[:,4]"
   ]
  },
  {
   "cell_type": "code",
   "execution_count": 44,
   "metadata": {},
   "outputs": [
    {
     "name": "stdout",
     "output_type": "stream",
     "text": [
      "-------------------------------------\n",
      "COEFFICIENT of HBC\n",
      "-------------------------------------\n",
      "mean:  1.02\n",
      "95% ci:  0.736 1.304\n",
      "\n",
      "-------------------------------------\n",
      "COEFFICIENT of FREQUENCY\n",
      "-------------------------------------\n",
      "mean:  0.307\n",
      "95% ci:  0.275 0.339\n",
      "\n",
      "-------------------------------------\n",
      "COEFFICIENT of W2V\n",
      "-------------------------------------\n",
      "mean:  1.094\n",
      "95% ci:  1.063 1.126\n",
      "\n",
      "-------------------------------------\n",
      "COEFFICIENT of CONCRETENESS\n",
      "-------------------------------------\n",
      "mean:  -0.157\n",
      "95% ci:  -0.172 -0.142\n",
      "\n",
      "-------------------------------------\n",
      "COEFFICIENT of VALENCE\n",
      "-------------------------------------\n",
      "mean:  -0.1\n",
      "95% ci:  -0.115 -0.086\n",
      "\n"
     ]
    }
   ],
   "source": [
    "title = ['HBC','FREQUENCY','W2V','CONCRETENESS','VALENCE']\n",
    "\n",
    "for i in range(5):\n",
    "    print('-------------------------------------')\n",
    "    print('COEFFICIENT of {}'.format(title[i]))\n",
    "    print('-------------------------------------')\n",
    "    printResult(coeff[:,i], True)\n",
    "    print()"
   ]
  },
  {
   "cell_type": "markdown",
   "metadata": {},
   "source": [
    "# Correlation matrix"
   ]
  },
  {
   "cell_type": "code",
   "execution_count": 17,
   "metadata": {
    "collapsed": true
   },
   "outputs": [],
   "source": [
    "corr = np.zeros((5,5))\n",
    "p = np.zeros((5,5))\n",
    "preds = pd.read_csv('inputs.csv')\n",
    "\n",
    "for i in range(5):\n",
    "    for j in range(5):\n",
    "        corr[i,j] = round(spearmanr(preds[str(i)],preds[str(j)])[0],2)\n",
    "        p[i,j] = spearmanr(preds[str(i)],preds[str(j)])[1]"
   ]
  },
  {
   "cell_type": "markdown",
   "metadata": {},
   "source": [
    "# Figure 2"
   ]
  },
  {
   "cell_type": "code",
   "execution_count": 16,
   "metadata": {
    "collapsed": true
   },
   "outputs": [],
   "source": [
    "x = ['Association (HBC)']*len(asso) + ['Frequency']*len(asso) + ['Similarity (w2v)']*len(asso) +\\\n",
    "['Metaphor (Concreteness)']*len(asso) + ['Metphor (Valence)']*len(asso)\n",
    "y = list(asso) + list(freq) + list(sim) + list(conc) + list(val)"
   ]
  },
  {
   "cell_type": "code",
   "execution_count": 29,
   "metadata": {},
   "outputs": [
    {
     "data": {
      "image/png": "[encoded data removed]",
      "text/plain": [
       "<Figure size 1500x500 with 4 Axes>"
      ]
     },
     "metadata": {},
     "output_type": "display_data"
    }
   ],
   "source": [
    "mean = [0.589, 0.571, 0.667, 0.564, 0.545, 0.538, 0.685]\n",
    "std = [0.002,0.002,0.002, 0.002,0.002,0.005,0.002] \n",
    "\n",
    "ax1 = mpl.pyplot.subplot(131)\n",
    "\n",
    "ax1.bar(list(range(6)) + [6.5],mean,\n",
    "       align = 'center', edgecolor = 'none',\n",
    "       color = ('#ff7538','#c1828d','#19647e',  '#d14336','#048a81', '#ffae03','#b6c649'),\n",
    "       yerr=std, error_kw=dict(ecolor='dimgray', lw=1))\n",
    "\n",
    "mpl.pyplot.xticks(list(range(6)) + [6.5], ('Assoc.\\n(HBC)', 'Assoc.\\n(USF)',\n",
    "                                  'Sim.\\n(w2v)','Met.\\n(Conc.)',\n",
    "                                  'Met.\\n(Val.)', 'Freq.','Combination\\nModel'))\n",
    "\n",
    "ax1.yaxis.set_ticks_position('left')\n",
    "ax1.xaxis.set_ticks_position('bottom')\n",
    "mpl.pyplot.ylabel('Predictive Accuracy', size = 12)\n",
    "\n",
    "error = [np.std(i) for i in [asso, sim, conc, val, freq]]\n",
    "\n",
    "ax3 = mpl.pyplot.subplot(133)\n",
    "\n",
    "ax3.bar(np.linspace(0, 2.5, 5),\n",
    "       [np.mean(i) for i in [asso, sim, conc, val, freq]],\n",
    "       align = 'center', width = 0.5, edgecolor = 'none',\n",
    "       color = ('#ff7538','#19647e',  '#d14336','#048a81', '#ffae03'),\n",
    "       yerr=error, error_kw=dict(ecolor='grey', lw=1))\n",
    "\n",
    "mpl.pyplot.xticks(np.linspace(0, 2.5, 5), ('Assoc.\\n(HBC)', 'Sim.\\n(w2v)','Met.\\n(Conc.)',\n",
    "                   'Met.\\n(Val.)', 'Freq.'))\n",
    "\n",
    "ax3.yaxis.set_ticks_position('left')\n",
    "ax3.xaxis.set_ticks_position('bottom')\n",
    "mpl.pyplot.ylabel('Coefficient from Logistic Regression', size = 12)\n",
    "\n",
    "ax2 = mpl.pyplot.subplot(132)\n",
    "sns.heatmap(corr, annot = True,\n",
    "            vmin = -1, vmax = 1,\n",
    "            linecolor = 'white',linewidths = 1.5,square = True, ax = ax2,\n",
    "           xticklabels = ['Assoc.\\n(HBC)', 'Sim.\\n(w2v)','Met.\\n(Conc.)',\n",
    "                   'Met.\\n(Val.)', 'Freq.'],\n",
    "           yticklabels = ['Assoc.\\n(HBC)', 'Sim.\\n(w2v)','Met.\\n(Conc.)',\n",
    "                   'Met.\\n(Val.)', 'Freq.'])\n",
    "mpl.pyplot.tight_layout()\n",
    "\n",
    "\n",
    "ax1.set_title(' ')\n",
    "ax2.set_title(' ')\n",
    "ax3.set_title(' ')\n",
    "ax1.text(-1,0.75,'A', size = 20, color = '#1F2060')\n",
    "ax2.text(0,6,'B', size = 20, color = '#1F2060')\n",
    "ax3.text(-0.5,1.3,'C', size = 20, color = '#1F2060')\n",
    "\n",
    "\n",
    "mpl.pyplot.savefig('accuracy_log.png', format='eps', dpi=600,bbox_inches='tight')\n",
    "mpl.pyplot.show()"
   ]
  }
 ],
 "metadata": {
  "kernelspec": {
   "display_name": "Python [default]",
   "language": "python",
   "name": "python3"
  },
  "language_info": {
   "codemirror_mode": {
    "name": "ipython",
    "version": 3
   },
   "file_extension": ".py",
   "mimetype": "text/x-python",
   "name": "python",
   "nbconvert_exporter": "python",
   "pygments_lexer": "ipython3",
   "version": "3.5.2"
  }
 },
 "nbformat": 4,
 "nbformat_minor": 1
}
