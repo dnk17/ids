{
 "cells": [
  {
   "cell_type": "code",
   "execution_count": 1,
   "metadata": {
    "collapsed": true
   },
   "outputs": [],
   "source": [
    "from collections import Counter\n",
    "import matplotlib as mpl\n",
    "mpl.use('TkAgg')\n",
    "%matplotlib inline\n",
    "import pandas as pd\n",
    "import os\n",
    "from IPython.display import clear_output\n",
    "import numpy as np\n",
    "from scipy.sparse import load_npz, csr_matrix\n",
    "from scipy.io import loadmat"
   ]
  },
  {
   "cell_type": "code",
   "execution_count": 2,
   "metadata": {
    "collapsed": true
   },
   "outputs": [],
   "source": [
    "params = {'axes.spines.top'    : False,\n",
    "          'axes.spines.right'  : False,\n",
    "          'text.usetex': True,\n",
    "          'axes.labelsize': 15, \n",
    "          'axes.titlesize': 12,\n",
    "          'font.size': 12, \n",
    "          'legend.fontsize': 12, \n",
    "          'xtick.labelsize': 10,\n",
    "          'ytick.labelsize': 15,\n",
    "          'ytick.direction':'in',\n",
    "          'figure.figsize': [15,5],\n",
    "          'font.family': 'serif',}\n",
    "\n",
    "mpl.pyplot.rcParams.update(params)"
   ]
  },
  {
   "cell_type": "code",
   "execution_count": 3,
   "metadata": {
    "collapsed": true
   },
   "outputs": [],
   "source": [
    "def upperIndex(size):\n",
    "    a = np.zeros((size,size))\n",
    "    up = np.triu_indices(size)\n",
    "    a[up] = 1\n",
    "    di = np.diag_indices(size)\n",
    "    a[di] = 0 \n",
    "    return(np.nonzero(a))"
   ]
  },
  {
   "cell_type": "code",
   "execution_count": 4,
   "metadata": {
    "collapsed": true
   },
   "outputs": [],
   "source": [
    "indices = upperIndex(1191)\n",
    "translate = {}\n",
    "\n",
    "for i in range(len(indices[0])):\n",
    "    translate[i] = (indices[0][i],indices[1][i])"
   ]
  },
  {
   "cell_type": "code",
   "execution_count": 5,
   "metadata": {
    "collapsed": true
   },
   "outputs": [],
   "source": [
    "pred1 = load_npz('data/usf/usf_pred1.npz')\n",
    "\n",
    "# Second Order \n",
    "pred2 = load_npz('data/usf/usf_pred2.npz')\n",
    "pred3 = load_npz('data/usf/usf_pred3.npz')\n",
    "pred4 = load_npz('data/usf/usf_pred4.npz')\n",
    "\n",
    "# Third Order \n",
    "pred5 = load_npz('data/usf/usf_pred5.npz')\n",
    "pred6 = load_npz('data/usf/usf_pred6.npz')\n",
    "pred7 = load_npz('data/usf/usf_pred7.npz')\n",
    "pred8 = load_npz('data/usf/usf_pred8.npz')"
   ]
  },
  {
   "cell_type": "code",
   "execution_count": 6,
   "metadata": {
    "collapsed": true
   },
   "outputs": [],
   "source": [
    "def inSecondOrder(index):\n",
    "    if pred2[index] !=0 or pred3[index] != 0 or pred4[index]!=0:\n",
    "        return True\n",
    "    else:\n",
    "        return False\n",
    "    \n",
    "def inThirdOrder(index):\n",
    "    if pred5[index] !=0 or pred6[index] != 0\\\n",
    "    or pred7[index]!=0 or pred8[index] != 0:\n",
    "        return True\n",
    "    else:\n",
    "        return False"
   ]
  },
  {
   "cell_type": "code",
   "execution_count": 7,
   "metadata": {
    "collapsed": true
   },
   "outputs": [],
   "source": [
    "matrices = loadmat('data/usf_colexMats.mat')\n",
    "\n",
    "sumMat = []\n",
    "\n",
    "for key in matrices.keys():\n",
    "    if type(matrices[key]) == type(matrices['207']):\n",
    "        sumMat.append(matrices[key])\n",
    "\n",
    "totalMat = sum(sumMat)"
   ]
  },
  {
   "cell_type": "code",
   "execution_count": 8,
   "metadata": {
    "collapsed": true
   },
   "outputs": [],
   "source": [
    "eng_ex = load_npz('data/usf_eng_ex.npz')"
   ]
  },
  {
   "cell_type": "code",
   "execution_count": 9,
   "metadata": {
    "collapsed": true
   },
   "outputs": [],
   "source": [
    "nonzero_colex = set(zip(*np.nonzero(totalMat)))\n",
    "upper = set(zip(*upperIndex(1026)))\n",
    "diagonal = set([(i,i) for i in range(1026)])\n",
    "english = set(zip(*np.nonzero(eng_ex)))"
   ]
  },
  {
   "cell_type": "code",
   "execution_count": 10,
   "metadata": {
    "collapsed": true
   },
   "outputs": [],
   "source": [
    "ord1_indices =  (set(zip(*np.nonzero(pred1))) & nonzero_colex  & upper) - diagonal - english"
   ]
  },
  {
   "cell_type": "code",
   "execution_count": 11,
   "metadata": {
    "collapsed": true
   },
   "outputs": [],
   "source": [
    "ord2_indices = (set(zip(*np.nonzero(pred2 + pred3 + pred4))) & nonzero_colex  & upper)\\\n",
    "                - ord1_indices - diagonal - english"
   ]
  },
  {
   "cell_type": "code",
   "execution_count": 12,
   "metadata": {
    "collapsed": true
   },
   "outputs": [],
   "source": [
    "ord3_indices = (set(zip(*np.nonzero(pred5 + pred6 + pred7+pred8)))& nonzero_colex &upper)\\\n",
    "                - ord1_indices - ord2_indices - diagonal  - english"
   ]
  },
  {
   "cell_type": "code",
   "execution_count": 13,
   "metadata": {},
   "outputs": [
    {
     "data": {
      "text/plain": [
       "0.8979480164158686"
      ]
     },
     "execution_count": 13,
     "metadata": {},
     "output_type": "execute_result"
    }
   ],
   "source": [
    "# Coverage percentage \n",
    "\n",
    "len(ord1_indices|ord2_indices|ord3_indices)/len((nonzero_colex & upper) - diagonal)"
   ]
  },
  {
   "cell_type": "code",
   "execution_count": 14,
   "metadata": {
    "collapsed": true
   },
   "outputs": [],
   "source": [
    "ord1_indices = np.array(list(ord1_indices))\n",
    "ord1_indices = (ord1_indices[:,0],ord1_indices[:,1])"
   ]
  },
  {
   "cell_type": "code",
   "execution_count": 15,
   "metadata": {
    "collapsed": true
   },
   "outputs": [],
   "source": [
    "ord2_indices = np.array(list(ord2_indices))\n",
    "ord2_indices = (ord2_indices[:,0],ord2_indices[:,1])"
   ]
  },
  {
   "cell_type": "code",
   "execution_count": 16,
   "metadata": {
    "collapsed": true
   },
   "outputs": [],
   "source": [
    "ord3_indices = np.array(list(ord3_indices))\n",
    "ord3_indices = (ord3_indices[:,0],ord3_indices[:,1])"
   ]
  },
  {
   "cell_type": "code",
   "execution_count": 17,
   "metadata": {
    "collapsed": true
   },
   "outputs": [],
   "source": [
    "family_mats = loadmat('data/usf_colex_family.mat')\n",
    "climate_mats = loadmat('data/usf_colex_climate.mat')\n",
    "geography_mats = loadmat('data/usf_colex_geography.mat')"
   ]
  },
  {
   "cell_type": "code",
   "execution_count": 18,
   "metadata": {},
   "outputs": [
    {
     "name": "stdout",
     "output_type": "stream",
     "text": [
      "Trial #:  999\n"
     ]
    }
   ],
   "source": [
    "fam_ord1 = []\n",
    "fam_ord2 = []\n",
    "fam_ord3 = []\n",
    "\n",
    "for i in range(1000):\n",
    "    os.system('clear')\n",
    "    clear_output(wait=True)\n",
    "    print('Trial #: ', i)\n",
    "    \n",
    "    meanFam = family_mats[str(i)]\n",
    "    ord1, ord2, ord3 = (meanFam.toarray()[ord1_indices],\n",
    "                    meanFam.toarray()[ord2_indices],\n",
    "                    meanFam.toarray()[ord3_indices])\n",
    "    fam_ord1.append(np.mean(ord1))\n",
    "    fam_ord2.append(np.mean(ord2))\n",
    "    fam_ord3.append(np.mean(ord3))"
   ]
  },
  {
   "cell_type": "code",
   "execution_count": 19,
   "metadata": {},
   "outputs": [
    {
     "name": "stdout",
     "output_type": "stream",
     "text": [
      "Trial #:  999\n"
     ]
    }
   ],
   "source": [
    "geo_ord1 = []\n",
    "geo_ord2 = []\n",
    "geo_ord3 = []\n",
    "\n",
    "for i in range(1000):\n",
    "    os.system('clear')\n",
    "    clear_output(wait=True)\n",
    "    print('Trial #: ', i)\n",
    "    \n",
    "    meanGeo = geography_mats[str(i)]\n",
    "\n",
    "    ord1, ord2, ord3 = (meanGeo.toarray()[ord1_indices],\n",
    "                    meanGeo.toarray()[ord2_indices],\n",
    "                    meanGeo.toarray()[ord3_indices])\n",
    "    geo_ord1.append(np.mean(ord1))\n",
    "    geo_ord2.append(np.mean(ord2))\n",
    "    geo_ord3.append(np.mean(ord3))"
   ]
  },
  {
   "cell_type": "code",
   "execution_count": 20,
   "metadata": {},
   "outputs": [
    {
     "name": "stdout",
     "output_type": "stream",
     "text": [
      "Trial #:  999\n"
     ]
    }
   ],
   "source": [
    "clim_ord1 = []\n",
    "clim_ord2 = []\n",
    "clim_ord3 = []\n",
    "\n",
    "for i in range(1000):\n",
    "    os.system('clear')\n",
    "    clear_output(wait=True)\n",
    "    print('Trial #: ', i)\n",
    "    \n",
    "    meanClim = climate_mats[str(i)]\n",
    "    \n",
    "    ord1, ord2, ord3 = (meanClim.toarray()[ord1_indices],\n",
    "                    meanClim.toarray()[ord2_indices],\n",
    "                    meanClim.toarray()[ord3_indices])\n",
    "    clim_ord1.append(np.mean(ord1))\n",
    "    clim_ord2.append(np.mean(ord2))\n",
    "    clim_ord3.append(np.mean(ord3))"
   ]
  },
  {
   "cell_type": "markdown",
   "metadata": {},
   "source": [
    "# Print Results"
   ]
  },
  {
   "cell_type": "code",
   "execution_count": 21,
   "metadata": {},
   "outputs": [
    {
     "name": "stdout",
     "output_type": "stream",
     "text": [
      "CONTROL FOR FAMILY:\n",
      "-------First Order ---------\n",
      "Mean: 0.0325, 95% CI: 0.0308,0.0343\n",
      "-------Second Order ---------\n",
      "Mean: 0.0095, 95% CI: 0.0088,0.0101\n",
      "-------Third Order ---------\n",
      "Mean: 0.0056, 95% CI: 0.0052,0.0061\n"
     ]
    }
   ],
   "source": [
    "print('CONTROL FOR FAMILY:')\n",
    "print('-------First Order ---------')\n",
    "print('Mean: {}, 95% CI: {},{}'.format(round(np.mean(fam_ord1),4),\n",
    "                                       round(np.mean(fam_ord1)-1.96*np.std(fam_ord1),4),\n",
    "                                       round(np.mean(fam_ord1)+1.96*np.std(fam_ord1),4)))\n",
    "print('-------Second Order ---------')\n",
    "print('Mean: {}, 95% CI: {},{}'.format(round(np.mean(fam_ord2),4),\n",
    "                                       round(np.mean(fam_ord2)-1.96*np.std(fam_ord2),4),\n",
    "                                       round(np.mean(fam_ord2)+1.96*np.std(fam_ord2),4)))\n",
    "print('-------Third Order ---------')\n",
    "print('Mean: {}, 95% CI: {},{}'.format(round(np.mean(fam_ord3),4),\n",
    "                                       round(np.mean(fam_ord3)-1.96*np.std(fam_ord3),4),\n",
    "                                       round(np.mean(fam_ord3)+1.96*np.std(fam_ord3),4)))"
   ]
  },
  {
   "cell_type": "code",
   "execution_count": 22,
   "metadata": {},
   "outputs": [
    {
     "name": "stdout",
     "output_type": "stream",
     "text": [
      "CONTROL FOR GEOGRAPHY:\n",
      "-------First Order ---------\n",
      "Mean: 0.0375, 95% CI: 0.032,0.0429\n",
      "-------Second Order ---------\n",
      "Mean: 0.012, 95% CI: 0.0094,0.0146\n",
      "-------Third Order ---------\n",
      "Mean: 0.0079, 95% CI: 0.0056,0.0103\n"
     ]
    }
   ],
   "source": [
    "print('CONTROL FOR GEOGRAPHY:')\n",
    "print('-------First Order ---------')\n",
    "print('Mean: {}, 95% CI: {},{}'.format(round(np.mean(geo_ord1),4),\n",
    "                                       round(np.mean(geo_ord1)-1.96*np.std(geo_ord1),4),\n",
    "                                       round(np.mean(geo_ord1)+1.96*np.std(geo_ord1),4)))\n",
    "print('-------Second Order ---------')\n",
    "print('Mean: {}, 95% CI: {},{}'.format(round(np.mean(geo_ord2),4),\n",
    "                                       round(np.mean(geo_ord2)-1.96*np.std(geo_ord2),4),\n",
    "                                       round(np.mean(geo_ord2)+1.96*np.std(geo_ord2),4)))\n",
    "print('-------Third Order ---------')\n",
    "print('Mean: {}, 95% CI: {},{}'.format(round(np.mean(geo_ord3),4),\n",
    "                                       round(np.mean(geo_ord3)-1.96*np.std(geo_ord3),4),\n",
    "                                       round(np.mean(geo_ord3)+1.96*np.std(geo_ord3),4)))"
   ]
  },
  {
   "cell_type": "code",
   "execution_count": 23,
   "metadata": {},
   "outputs": [
    {
     "name": "stdout",
     "output_type": "stream",
     "text": [
      "CONTROL FOR CLIMATE:\n",
      "-------First Order ---------\n",
      "Mean: 0.029, 95% CI: 0.0259,0.032\n",
      "-------Second Order ---------\n",
      "Mean: 0.0085, 95% CI: 0.007,0.0101\n",
      "-------Third Order ---------\n",
      "Mean: 0.0057, 95% CI: 0.0034,0.008\n"
     ]
    }
   ],
   "source": [
    "print('CONTROL FOR CLIMATE:')\n",
    "print('-------First Order ---------')\n",
    "print('Mean: {}, 95% CI: {},{}'.format(round(np.mean(clim_ord1),4),\n",
    "                                       round(np.mean(clim_ord1)-1.96*np.std(clim_ord1),4),\n",
    "                                       round(np.mean(clim_ord1)+1.96*np.std(clim_ord1),4)))\n",
    "print('-------Second Order ---------')\n",
    "print('Mean: {}, 95% CI: {},{}'.format(round(np.mean(clim_ord2),4),\n",
    "                                       round(np.mean(clim_ord2)-1.96*np.std(clim_ord2),4),\n",
    "                                       round(np.mean(clim_ord2)+1.96*np.std(clim_ord2),4)))\n",
    "print('-------Third Order ---------')\n",
    "print('Mean: {}, 95% CI: {},{}'.format(round(np.mean(clim_ord3),4),\n",
    "                                       round(np.mean(clim_ord3)-1.96*np.std(clim_ord3),4),\n",
    "                                       round(np.mean(clim_ord3)+1.96*np.std(clim_ord3),4)))"
   ]
  },
  {
   "cell_type": "markdown",
   "metadata": {},
   "source": [
    "# Graph "
   ]
  },
  {
   "cell_type": "code",
   "execution_count": 24,
   "metadata": {
    "collapsed": true
   },
   "outputs": [],
   "source": [
    "def  draw_subplots(figure, data, err, i):\n",
    "    figure.grid(True, which='both', axis = 'y',zorder = 0)\n",
    "\n",
    "    figure.bar(list(range(3)),\n",
    "       data,\n",
    "       align = 'center', width = 0.7, edgecolor = 'none',\n",
    "       color = ('#c1828d','#d6a4ad', '#ffccd8'), zorder =2,\n",
    "       yerr=err, error_kw=dict(ecolor='dimgray', lw=1, zorder=3))\n",
    "\n",
    "    figure.set_xlim(-1,3)\n",
    "    figure.set_ylim(0, 0.045)\n",
    "    figure.yaxis.set_ticks_position('left')\n",
    "    figure.xaxis.set_ticks_position('bottom')\n",
    "    figure.set_yticks(np.arange(0,0.045,0.01))\n",
    "    if i == 0: \n",
    "        figure.set_ylabel('Colexification Frequency')"
   ]
  },
  {
   "cell_type": "code",
   "execution_count": 25,
   "metadata": {
    "collapsed": true
   },
   "outputs": [],
   "source": [
    "fam_means = [np.mean(fam_ord1), np.mean(fam_ord2), np.mean(fam_ord3)]\n",
    "fam_err = [np.std(fam_ord1), np.std(fam_ord2), np.std(fam_ord3)]\n",
    "\n",
    "geo_means = [np.mean(geo_ord1), np.mean(geo_ord2), np.mean(geo_ord3)]\n",
    "geo_err = [np.std(geo_ord1), np.std(geo_ord2), np.std(geo_ord3)]\n",
    "\n",
    "clim_means = [np.mean(clim_ord1), np.mean(clim_ord2), np.mean(clim_ord3)]\n",
    "clim_err = [np.std(clim_ord1), np.std(clim_ord2), np.std(clim_ord3)]\n",
    "\n",
    "means = [fam_means, clim_means, geo_means]\n",
    "errors = [fam_err, clim_err, geo_err]"
   ]
  },
  {
   "cell_type": "code",
   "execution_count": 30,
   "metadata": {},
   "outputs": [
    {
     "data": {
      "image/png": "[encoded data removed]",
      "text/plain": [
       "<Figure size 1500x500 with 3 Axes>"
      ]
     },
     "metadata": {},
     "output_type": "display_data"
    }
   ],
   "source": [
    "fig, axes = mpl.pyplot.subplots(1, 3)\n",
    "mpl.pyplot.setp(axes, xticks=list(range(3)), \n",
    "         xticklabels=('1st-order \\n association',\n",
    "                      '2nd-order \\n association',\n",
    "                      '3rd-order \\n association'))\n",
    "\n",
    "for i in range(3): \n",
    "    draw_subplots(axes[i],means[i],errors[i],i) \n",
    "    \n",
    "axes[0].set_title('Family-controlled', size = 15)\n",
    "axes[1].set_title('Climate-controlled', size = 15)\n",
    "axes[2].set_title('Geography-controlled', size = 15)\n",
    "\n",
    "axes[0].text(-1, 0.05,'A', size = 25, ha='center', color = '#1F2060')\n",
    "axes[1].text(-1, 0.05,'B', size = 25, ha='center', color = '#1F2060')\n",
    "axes[2].text(-1, 0.05,'C', size = 25, ha='center', color = '#1F2060')\n",
    "\n",
    "mpl.pyplot.tight_layout()\n",
    "    \n",
    "mpl.pyplot.savefig('usf_order.eps', format='eps', dpi=600)\n",
    "mpl.pyplot.show()"
   ]
  }
 ],
 "metadata": {
  "kernelspec": {
   "display_name": "Python [default]",
   "language": "python",
   "name": "python3"
  },
  "language_info": {
   "codemirror_mode": {
    "name": "ipython",
    "version": 3
   },
   "file_extension": ".py",
   "mimetype": "text/x-python",
   "name": "python",
   "nbconvert_exporter": "python",
   "pygments_lexer": "ipython3",
   "version": "3.5.2"
  }
 },
 "nbformat": 4,
 "nbformat_minor": 1
}
